{
 "cells": [
  {
   "cell_type": "code",
   "execution_count": null,
   "id": "af257594-4e61-4e84-98e1-1291c2141d90",
   "metadata": {},
   "outputs": [],
   "source": [
    "# Q1, Create a vehicle class with an init method having instance variables as name_of_vehicle, max_speed  and average_of_vehicle"
   ]
  },
  {
   "cell_type": "code",
   "execution_count": null,
   "id": "addc1f6a-73ba-423a-88c2-3ff9e3cc0c25",
   "metadata": {},
   "outputs": [],
   "source": [
    "class Vehicle():\n",
    "    def __init__(self,name_of_vehicle,max_speed,average_of_vehicle):\n",
    "        self.name_of_vehicle = name_of_vehicle\n",
    "        self.max_speed = max_speed\n",
    "        self.average_of_vehicle = average_of_vehicle"
   ]
  },
  {
   "cell_type": "code",
   "execution_count": 3,
   "id": "3f1916aa-acdc-4833-b220-c9fa29dd8771",
   "metadata": {},
   "outputs": [],
   "source": [
    "# Q2.  Create a child class car from the vehicle class created in Que 1, which will inherit the vehicle class.  Create a method named seating_capacity which takes capacity as an argument and returns the name of  the vehicle and its seating capacity."
   ]
  },
  {
   "cell_type": "code",
   "execution_count": 4,
   "id": "c1e5d976-f0ab-4fe5-bbef-d389d4f5e5ac",
   "metadata": {},
   "outputs": [
    {
     "data": {
      "text/plain": [
       "('Tata Nexon', 5)"
      ]
     },
     "execution_count": 4,
     "metadata": {},
     "output_type": "execute_result"
    }
   ],
   "source": [
    "class car(Vehicle):\n",
    "    def __init__ (self,name_of_vehicle, max_speed, average_of_vehicle, capacity ):\n",
    "        super().__init__(name_of_vehicle, max_speed, average_of_vehicle) \n",
    "        self.capacity=capacity\n",
    "    def seating_capacity(self):\n",
    "        return self.name_of_vehicle, self.capacity\n",
    "Nexon=car(\"Tata Nexon\", 180, 20, 5)\n",
    "Nexon.seating_capacity()"
   ]
  },
  {
   "cell_type": "code",
   "execution_count": 5,
   "id": "c40428e0-3827-47a2-9fb3-35781bce5a06",
   "metadata": {},
   "outputs": [],
   "source": [
    "# Q3. What is multiple inheritance? Write a python code to demonstrate multiple inheritance."
   ]
  },
  {
   "cell_type": "code",
   "execution_count": 6,
   "id": "be5d01c4-b532-42c5-9ef0-789e82b76261",
   "metadata": {},
   "outputs": [
    {
     "name": "stdout",
     "output_type": "stream",
     "text": [
      "Eye Color Is Blue : I am Mom Eye\n",
      "Skin Color Is white : I am Dad skin\n"
     ]
    }
   ],
   "source": [
    "# When 2 diffrent classes combined to create another class than the created new class is caled multiple inheritance\n",
    "\n",
    "\n",
    "class Mom: # it Create mom\n",
    "    def eye_color(self):\n",
    "        return (\"Eye Color Is Blue : I am Mom Eye\")\n",
    "    \n",
    "class Dad: # it create dad\n",
    "    def skin_color(self):\n",
    "        return \"Skin Color Is white : I am Dad skin\"\n",
    "    \n",
    "class Baby(Mom, Dad): #it create baby\n",
    "    pass\n",
    "\n",
    "baby1= Baby()#create baby object\n",
    "\n",
    "print(baby1.eye_color())# see mom gene\n",
    "print(baby1.skin_color()) # see dad gene"
   ]
  },
  {
   "cell_type": "code",
   "execution_count": 7,
   "id": "645c04ab-b3a6-496b-a49e-dc058a18a3ad",
   "metadata": {},
   "outputs": [],
   "source": [
    "# Q4. What are getter and setter in python? Create a class and create a getter and a setter method in this  class. "
   ]
  },
  {
   "cell_type": "code",
   "execution_count": 8,
   "id": "92441fdd-17d7-4885-92a0-25d5aa0f1dc4",
   "metadata": {},
   "outputs": [
    {
     "name": "stdout",
     "output_type": "stream",
     "text": [
      "Apurva\n",
      "Aryan\n"
     ]
    }
   ],
   "source": [
    "# Getter: A method that allows you to access an attribute in a given class\n",
    "# Setter: A method that allows you to set or mutate the value of an attribute in a class\n",
    "\n",
    "class Person:\n",
    "    def __init__(self, name):\n",
    "        self._name = name\n",
    "    \n",
    "    # Getter method for name\n",
    "    def get_name(self):\n",
    "        return self._name\n",
    "    \n",
    "    # Setter method for name\n",
    "    def set_name(self, name):\n",
    "        self._name = name\n",
    "\n",
    "# Create a person object\n",
    "person = Person(\"Apurva\")\n",
    "\n",
    "# Get the name using the getter method\n",
    "print(person.get_name())\n",
    "\n",
    "# Set the name using the setter method\n",
    "person.set_name(\"Aryan\")\n",
    "\n",
    "# Get the name again using the getter method\n",
    "print(person.get_name())\n"
   ]
  },
  {
   "cell_type": "code",
   "execution_count": 9,
   "id": "266d7f4f-5ecc-45b6-9a95-9ca7f3b12329",
   "metadata": {},
   "outputs": [],
   "source": [
    "# Q5.What is method overriding in python? Write a python code to demonstrate method overriding. "
   ]
  },
  {
   "cell_type": "code",
   "execution_count": 12,
   "id": "b7bf41ef-7068-4ac6-8158-82fcc9d6ab7c",
   "metadata": {},
   "outputs": [
    {
     "name": "stdout",
     "output_type": "stream",
     "text": [
      "it is Inside Parent\n",
      "it is Inside Child\n"
     ]
    }
   ],
   "source": [
    "# The method overriding in Python means creating two methods with the same name but differ in the programming logic. The concept of Method overriding allows us to change or override the Parent Class function in the Child Class.\n",
    "# Defining parent class\n",
    "class Parent():\n",
    "      \n",
    "    # Constructor\n",
    "    def __init__(self):\n",
    "        self.value = \"it is Inside Parent\"\n",
    "          \n",
    "    # Parent's show method\n",
    "    def show(self):\n",
    "        print(self.value)\n",
    "          \n",
    "# Defining child class\n",
    "class Child(Parent):\n",
    "      \n",
    "    # Constructor\n",
    "    def __init__(self):\n",
    "        self.value = \"it is Inside Child\"\n",
    "          \n",
    "    # Child's show method\n",
    "    def show(self):\n",
    "        print(self.value)\n",
    "        \n",
    "# Driver's code\n",
    "obj1 = Parent()\n",
    "obj2 = Child()\n",
    "  \n",
    "obj1.show()\n",
    "obj2.show()"
   ]
  },
  {
   "cell_type": "code",
   "execution_count": null,
   "id": "fcb01aa3-e884-45f1-bf14-c194166ea174",
   "metadata": {},
   "outputs": [],
   "source": []
  },
  {
   "cell_type": "code",
   "execution_count": null,
   "id": "c74a7e4b-32c2-415f-b364-dc203fb3d53e",
   "metadata": {},
   "outputs": [],
   "source": []
  }
 ],
 "metadata": {
  "kernelspec": {
   "display_name": "Python 3 (ipykernel)",
   "language": "python",
   "name": "python3"
  },
  "language_info": {
   "codemirror_mode": {
    "name": "ipython",
    "version": 3
   },
   "file_extension": ".py",
   "mimetype": "text/x-python",
   "name": "python",
   "nbconvert_exporter": "python",
   "pygments_lexer": "ipython3",
   "version": "3.10.6"
  }
 },
 "nbformat": 4,
 "nbformat_minor": 5
}
